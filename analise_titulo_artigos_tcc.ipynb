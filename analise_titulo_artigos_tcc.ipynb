{
 "cells": [
  {
   "cell_type": "code",
   "execution_count": 1,
   "id": "da21b8fb",
   "metadata": {},
   "outputs": [],
   "source": [
    "import pandas as pd"
   ]
  },
  {
   "cell_type": "code",
   "execution_count": 2,
   "id": "1db1e8f5",
   "metadata": {},
   "outputs": [
    {
     "data": {
      "text/html": [
       "<div>\n",
       "<style scoped>\n",
       "    .dataframe tbody tr th:only-of-type {\n",
       "        vertical-align: middle;\n",
       "    }\n",
       "\n",
       "    .dataframe tbody tr th {\n",
       "        vertical-align: top;\n",
       "    }\n",
       "\n",
       "    .dataframe thead th {\n",
       "        text-align: right;\n",
       "    }\n",
       "</style>\n",
       "<table border=\"1\" class=\"dataframe\">\n",
       "  <thead>\n",
       "    <tr style=\"text-align: right;\">\n",
       "      <th></th>\n",
       "      <th>relevan</th>\n",
       "      <th>Title</th>\n",
       "      <th>act</th>\n",
       "      <th>Translate</th>\n",
       "      <th>Abstract</th>\n",
       "      <th>act.1</th>\n",
       "      <th>Translate.1</th>\n",
       "      <th>year</th>\n",
       "      <th>author</th>\n",
       "      <th>Fonte</th>\n",
       "      <th>url</th>\n",
       "      <th>Critério</th>\n",
       "      <th>journal</th>\n",
       "      <th>doi</th>\n",
       "      <th>keywords</th>\n",
       "      <th>publisher</th>\n",
       "      <th>note</th>\n",
       "      <th>selection_criteria</th>\n",
       "      <th>status</th>\n",
       "    </tr>\n",
       "  </thead>\n",
       "  <tbody>\n",
       "    <tr>\n",
       "      <th>0</th>\n",
       "      <td>NaN</td>\n",
       "      <td>NaN</td>\n",
       "      <td>NaN</td>\n",
       "      <td>NaN</td>\n",
       "      <td>NaN</td>\n",
       "      <td>NaN</td>\n",
       "      <td>NaN</td>\n",
       "      <td>NaN</td>\n",
       "      <td>NaN</td>\n",
       "      <td>NaN</td>\n",
       "      <td>NaN</td>\n",
       "      <td>NaN</td>\n",
       "      <td>NaN</td>\n",
       "      <td>NaN</td>\n",
       "      <td>NaN</td>\n",
       "      <td>NaN</td>\n",
       "      <td>NaN</td>\n",
       "      <td>NaN</td>\n",
       "      <td>Accepted</td>\n",
       "    </tr>\n",
       "    <tr>\n",
       "      <th>1</th>\n",
       "      <td>9.0</td>\n",
       "      <td>Detection and Reconstruction of an Implicit Bo...</td>\n",
       "      <td>1.0</td>\n",
       "      <td>Detecção e reconstrução de uma superfície de l...</td>\n",
       "      <td>In this paper we propose a novel and easy to u...</td>\n",
       "      <td>1.0</td>\n",
       "      <td>Neste artigo, propomos um método de reconstruç...</td>\n",
       "      <td>2014.0</td>\n",
       "      <td>Wang, Lisheng and Wang, Pai and Cheng, Liuhang...</td>\n",
       "      <td>IEEE Digital Library</td>\n",
       "      <td>NaN</td>\n",
       "      <td>NaN</td>\n",
       "      <td>IEEE Transactions on Visualization and Compute...</td>\n",
       "      <td>10.1109/TVCG.2014.2312015</td>\n",
       "      <td>Three-dimensional displays;Image edge detectio...</td>\n",
       "      <td>NaN</td>\n",
       "      <td>NaN</td>\n",
       "      <td>NaN</td>\n",
       "      <td>Rejected</td>\n",
       "    </tr>\n",
       "    <tr>\n",
       "      <th>2</th>\n",
       "      <td>8.0</td>\n",
       "      <td>A novel incremental principal component analys...</td>\n",
       "      <td>1.0</td>\n",
       "      <td>Uma nova análise incremental de componentes pr...</td>\n",
       "      <td>Principal component analysis (PCA) has been pr...</td>\n",
       "      <td>1.0</td>\n",
       "      <td>A análise de componentes principais (PCA) prov...</td>\n",
       "      <td>2006.0</td>\n",
       "      <td>Haitao Zhao and Pong Chi Yuen and Kwok, J.T.</td>\n",
       "      <td>IEEE Digital Library</td>\n",
       "      <td>NaN</td>\n",
       "      <td>NaN</td>\n",
       "      <td>IEEE Transactions on Systems, Man, and Cyberne...</td>\n",
       "      <td>10.1109/TSMCB.2006.870645</td>\n",
       "      <td>Principal component analysis;Face recognition;...</td>\n",
       "      <td>NaN</td>\n",
       "      <td>NaN</td>\n",
       "      <td>NaN</td>\n",
       "      <td>Rejected</td>\n",
       "    </tr>\n",
       "  </tbody>\n",
       "</table>\n",
       "</div>"
      ],
      "text/plain": [
       "   relevan                                              Title  act  \\\n",
       "0      NaN                                                NaN  NaN   \n",
       "1      9.0  Detection and Reconstruction of an Implicit Bo...  1.0   \n",
       "2      8.0  A novel incremental principal component analys...  1.0   \n",
       "\n",
       "                                           Translate  \\\n",
       "0                                                NaN   \n",
       "1  Detecção e reconstrução de uma superfície de l...   \n",
       "2  Uma nova análise incremental de componentes pr...   \n",
       "\n",
       "                                            Abstract  act.1  \\\n",
       "0                                                NaN    NaN   \n",
       "1  In this paper we propose a novel and easy to u...    1.0   \n",
       "2  Principal component analysis (PCA) has been pr...    1.0   \n",
       "\n",
       "                                         Translate.1    year  \\\n",
       "0                                                NaN     NaN   \n",
       "1  Neste artigo, propomos um método de reconstruç...  2014.0   \n",
       "2  A análise de componentes principais (PCA) prov...  2006.0   \n",
       "\n",
       "                                              author                 Fonte  \\\n",
       "0                                                NaN                   NaN   \n",
       "1  Wang, Lisheng and Wang, Pai and Cheng, Liuhang...  IEEE Digital Library   \n",
       "2       Haitao Zhao and Pong Chi Yuen and Kwok, J.T.  IEEE Digital Library   \n",
       "\n",
       "   url  Critério                                            journal  \\\n",
       "0  NaN       NaN                                                NaN   \n",
       "1  NaN       NaN  IEEE Transactions on Visualization and Compute...   \n",
       "2  NaN       NaN  IEEE Transactions on Systems, Man, and Cyberne...   \n",
       "\n",
       "                         doi  \\\n",
       "0                        NaN   \n",
       "1  10.1109/TVCG.2014.2312015   \n",
       "2  10.1109/TSMCB.2006.870645   \n",
       "\n",
       "                                            keywords publisher note  \\\n",
       "0                                                NaN       NaN  NaN   \n",
       "1  Three-dimensional displays;Image edge detectio...       NaN  NaN   \n",
       "2  Principal component analysis;Face recognition;...       NaN  NaN   \n",
       "\n",
       "  selection_criteria    status  \n",
       "0                NaN  Accepted  \n",
       "1                NaN  Rejected  \n",
       "2                NaN  Rejected  "
      ]
     },
     "execution_count": 2,
     "metadata": {},
     "output_type": "execute_result"
    }
   ],
   "source": [
    "tcc_df = pd.read_excel('analise_tcc.xlsx')\n",
    "tcc_df.iloc[:3,:]"
   ]
  },
  {
   "cell_type": "code",
   "execution_count": 3,
   "id": "3057364a",
   "metadata": {},
   "outputs": [
    {
     "data": {
      "text/html": [
       "<div>\n",
       "<style scoped>\n",
       "    .dataframe tbody tr th:only-of-type {\n",
       "        vertical-align: middle;\n",
       "    }\n",
       "\n",
       "    .dataframe tbody tr th {\n",
       "        vertical-align: top;\n",
       "    }\n",
       "\n",
       "    .dataframe thead th {\n",
       "        text-align: right;\n",
       "    }\n",
       "</style>\n",
       "<table border=\"1\" class=\"dataframe\">\n",
       "  <thead>\n",
       "    <tr style=\"text-align: right;\">\n",
       "      <th></th>\n",
       "      <th>relevan</th>\n",
       "      <th>Title</th>\n",
       "      <th>Abstract</th>\n",
       "      <th>year</th>\n",
       "    </tr>\n",
       "  </thead>\n",
       "  <tbody>\n",
       "    <tr>\n",
       "      <th>1</th>\n",
       "      <td>9.0</td>\n",
       "      <td>Detection and Reconstruction of an Implicit Bo...</td>\n",
       "      <td>In this paper we propose a novel and easy to u...</td>\n",
       "      <td>2014.0</td>\n",
       "    </tr>\n",
       "    <tr>\n",
       "      <th>2</th>\n",
       "      <td>8.0</td>\n",
       "      <td>A novel incremental principal component analys...</td>\n",
       "      <td>Principal component analysis (PCA) has been pr...</td>\n",
       "      <td>2006.0</td>\n",
       "    </tr>\n",
       "    <tr>\n",
       "      <th>3</th>\n",
       "      <td>6.0</td>\n",
       "      <td>Illumination invariant feature extraction and ...</td>\n",
       "      <td>An efficient method for face recognition which...</td>\n",
       "      <td>2011.0</td>\n",
       "    </tr>\n",
       "    <tr>\n",
       "      <th>4</th>\n",
       "      <td>5.0</td>\n",
       "      <td>A Multi-Objective Enhancement Technique for Po...</td>\n",
       "      <td>Magnetic Resonance Imaging (MRI) is primary im...</td>\n",
       "      <td>2020.0</td>\n",
       "    </tr>\n",
       "    <tr>\n",
       "      <th>5</th>\n",
       "      <td>5.0</td>\n",
       "      <td>A Novel Neural Network Method for Face Recogni...</td>\n",
       "      <td>Face Recognition (FR) problem is one of the si...</td>\n",
       "      <td>2020.0</td>\n",
       "    </tr>\n",
       "  </tbody>\n",
       "</table>\n",
       "</div>"
      ],
      "text/plain": [
       "   relevan                                              Title  \\\n",
       "1      9.0  Detection and Reconstruction of an Implicit Bo...   \n",
       "2      8.0  A novel incremental principal component analys...   \n",
       "3      6.0  Illumination invariant feature extraction and ...   \n",
       "4      5.0  A Multi-Objective Enhancement Technique for Po...   \n",
       "5      5.0  A Novel Neural Network Method for Face Recogni...   \n",
       "\n",
       "                                            Abstract    year  \n",
       "1  In this paper we propose a novel and easy to u...  2014.0  \n",
       "2  Principal component analysis (PCA) has been pr...  2006.0  \n",
       "3  An efficient method for face recognition which...  2011.0  \n",
       "4  Magnetic Resonance Imaging (MRI) is primary im...  2020.0  \n",
       "5  Face Recognition (FR) problem is one of the si...  2020.0  "
      ]
     },
     "execution_count": 3,
     "metadata": {},
     "output_type": "execute_result"
    }
   ],
   "source": [
    "tcc_filtro_df = tcc_df.loc[1:,['relevan','Title','Abstract','year']]\n",
    "tcc_filtro_df.head()"
   ]
  },
  {
   "cell_type": "code",
   "execution_count": 67,
   "id": "8c8b3f1f",
   "metadata": {},
   "outputs": [
    {
     "data": {
      "text/html": [
       "<div>\n",
       "<style scoped>\n",
       "    .dataframe tbody tr th:only-of-type {\n",
       "        vertical-align: middle;\n",
       "    }\n",
       "\n",
       "    .dataframe tbody tr th {\n",
       "        vertical-align: top;\n",
       "    }\n",
       "\n",
       "    .dataframe thead th {\n",
       "        text-align: right;\n",
       "    }\n",
       "</style>\n",
       "<table border=\"1\" class=\"dataframe\">\n",
       "  <thead>\n",
       "    <tr style=\"text-align: right;\">\n",
       "      <th></th>\n",
       "      <th>relevan</th>\n",
       "      <th>Title</th>\n",
       "      <th>Abstract</th>\n",
       "      <th>year</th>\n",
       "    </tr>\n",
       "  </thead>\n",
       "  <tbody>\n",
       "    <tr>\n",
       "      <th>389</th>\n",
       "      <td>0.0</td>\n",
       "      <td>Uneven illumination correction of digital imag...</td>\n",
       "      <td>The common image related artifacts during imag...</td>\n",
       "      <td>2019.0</td>\n",
       "    </tr>\n",
       "    <tr>\n",
       "      <th>390</th>\n",
       "      <td>0.0</td>\n",
       "      <td>Video surveillance systems-current status and ...</td>\n",
       "      <td>Within this survey an attempt is made to docum...</td>\n",
       "      <td>2018.0</td>\n",
       "    </tr>\n",
       "    <tr>\n",
       "      <th>391</th>\n",
       "      <td>0.0</td>\n",
       "      <td>Visual tracking in video sequences based on bi...</td>\n",
       "      <td>Visual tracking is the process of locating one...</td>\n",
       "      <td>2018.0</td>\n",
       "    </tr>\n",
       "    <tr>\n",
       "      <th>392</th>\n",
       "      <td>0.0</td>\n",
       "      <td>Weighted contourlet binary patterns and image-...</td>\n",
       "      <td>We propose a novel face representation model, ...</td>\n",
       "      <td>2017.0</td>\n",
       "    </tr>\n",
       "    <tr>\n",
       "      <th>393</th>\n",
       "      <td>0.0</td>\n",
       "      <td>Where Computer Vision Needs Help from Computer...</td>\n",
       "      <td>This paper describes areas and problems where ...</td>\n",
       "      <td>2011.0</td>\n",
       "    </tr>\n",
       "  </tbody>\n",
       "</table>\n",
       "</div>"
      ],
      "text/plain": [
       "     relevan                                              Title  \\\n",
       "389      0.0  Uneven illumination correction of digital imag...   \n",
       "390      0.0  Video surveillance systems-current status and ...   \n",
       "391      0.0  Visual tracking in video sequences based on bi...   \n",
       "392      0.0  Weighted contourlet binary patterns and image-...   \n",
       "393      0.0  Where Computer Vision Needs Help from Computer...   \n",
       "\n",
       "                                              Abstract    year  \n",
       "389  The common image related artifacts during imag...  2019.0  \n",
       "390  Within this survey an attempt is made to docum...  2018.0  \n",
       "391  Visual tracking is the process of locating one...  2018.0  \n",
       "392  We propose a novel face representation model, ...  2017.0  \n",
       "393  This paper describes areas and problems where ...  2011.0  "
      ]
     },
     "execution_count": 67,
     "metadata": {},
     "output_type": "execute_result"
    }
   ],
   "source": [
    "tcc_filtro_df = tcc_df.loc[1:,['relevan','Title','Abstract','year']]\n",
    "tcc_filtro_df.tail()"
   ]
  },
  {
   "cell_type": "code",
   "execution_count": 4,
   "id": "a8d5fdbb",
   "metadata": {},
   "outputs": [
    {
     "data": {
      "text/plain": [
       "relevan     float64\n",
       "Title        object\n",
       "Abstract     object\n",
       "year        float64\n",
       "dtype: object"
      ]
     },
     "execution_count": 4,
     "metadata": {},
     "output_type": "execute_result"
    }
   ],
   "source": [
    "tcc_filtro_df.dtypes"
   ]
  },
  {
   "cell_type": "code",
   "execution_count": 6,
   "id": "a04c9328",
   "metadata": {},
   "outputs": [],
   "source": [
    "titulo_artigo = []\n",
    "for i,pal_tit in enumerate(tcc_filtro_df['Title'].iloc[:]):\n",
    "    titulo_artigo.insert(i,pal_tit)"
   ]
  },
  {
   "cell_type": "code",
   "execution_count": 7,
   "id": "4fec2efc",
   "metadata": {},
   "outputs": [
    {
     "data": {
      "text/plain": [
       "'Detection and Reconstruction of an Implicit Boundary Surface by Adaptively Expanding A Small Surface Patch in a 3D Image'"
      ]
     },
     "execution_count": 7,
     "metadata": {},
     "output_type": "execute_result"
    }
   ],
   "source": [
    "titulo_artigo[0]"
   ]
  },
  {
   "cell_type": "code",
   "execution_count": 52,
   "id": "7e086200",
   "metadata": {},
   "outputs": [],
   "source": [
    "palavras_titulo = []\n",
    "\n",
    "for n in range(len(titulo_artigo)):\n",
    "    palavras_titulo.insert(n, titulo_artigo[n].lower().split())"
   ]
  },
  {
   "cell_type": "code",
   "execution_count": 53,
   "id": "bff6ff46",
   "metadata": {},
   "outputs": [
    {
     "data": {
      "text/plain": [
       "['detection',\n",
       " 'and',\n",
       " 'reconstruction',\n",
       " 'of',\n",
       " 'an',\n",
       " 'implicit',\n",
       " 'boundary',\n",
       " 'surface',\n",
       " 'by',\n",
       " 'adaptively',\n",
       " 'expanding',\n",
       " 'a',\n",
       " 'small',\n",
       " 'surface',\n",
       " 'patch',\n",
       " 'in',\n",
       " 'a',\n",
       " '3d',\n",
       " 'image']"
      ]
     },
     "execution_count": 53,
     "metadata": {},
     "output_type": "execute_result"
    }
   ],
   "source": [
    "palavras_titulo[0]"
   ]
  },
  {
   "cell_type": "code",
   "execution_count": 31,
   "id": "07fd3882",
   "metadata": {},
   "outputs": [],
   "source": [
    "palavras_chave = ['artificial','intelligency', 'machine', 'learning', 'neural', 'network', 'image', 'enhancement', 'Method', 'Technique', 'Tool', 'Pattern', 'Recognition', 'Face', 'Recognition', 'Detection']\n",
    "\n",
    "palavras_chave_lower = []\n",
    "\n",
    "for n, item in enumerate(palavras_chave):\n",
    "    palavras_chave_lower.insert(n, item.lower())"
   ]
  },
  {
   "cell_type": "code",
   "execution_count": 32,
   "id": "93638232",
   "metadata": {},
   "outputs": [
    {
     "data": {
      "text/plain": [
       "16"
      ]
     },
     "execution_count": 32,
     "metadata": {},
     "output_type": "execute_result"
    }
   ],
   "source": [
    "len(palavras_chave_lower)"
   ]
  },
  {
   "cell_type": "code",
   "execution_count": 33,
   "id": "b4e2674e",
   "metadata": {},
   "outputs": [
    {
     "name": "stdout",
     "output_type": "stream",
     "text": [
      "7 - machine\n",
      "6 - neural\n",
      "5 - image\n",
      "4 - tool\n"
     ]
    }
   ],
   "source": [
    "menor = 0\n",
    "palavra = ''\n",
    "for n, item in enumerate(palavras_chave_lower):\n",
    "    if n == 0:\n",
    "        menor = len(item)\n",
    "    elif len(item) < menor:\n",
    "        menor = len(item)\n",
    "        palavra = item\n",
    "        print(f'{menor} - {palavra}')"
   ]
  },
  {
   "cell_type": "code",
   "execution_count": 34,
   "id": "1cf20ace",
   "metadata": {},
   "outputs": [
    {
     "name": "stdout",
     "output_type": "stream",
     "text": [
      "4 - tool\n"
     ]
    }
   ],
   "source": [
    "print(f'{menor} - {palavra}')"
   ]
  },
  {
   "cell_type": "code",
   "execution_count": 35,
   "id": "443a7b17",
   "metadata": {},
   "outputs": [
    {
     "data": {
      "text/plain": [
       "['detection',\n",
       " 'and',\n",
       " 'reconstruction',\n",
       " 'of',\n",
       " 'an',\n",
       " 'implicit',\n",
       " 'boundary',\n",
       " 'surface',\n",
       " 'by',\n",
       " 'adaptively',\n",
       " 'expanding',\n",
       " 'a',\n",
       " 'small',\n",
       " 'surface',\n",
       " 'patch',\n",
       " 'in',\n",
       " 'a',\n",
       " '3d',\n",
       " 'image']"
      ]
     },
     "execution_count": 35,
     "metadata": {},
     "output_type": "execute_result"
    }
   ],
   "source": [
    "palavras_titulo[0]"
   ]
  },
  {
   "cell_type": "code",
   "execution_count": 37,
   "id": "88a0e4bf",
   "metadata": {},
   "outputs": [
    {
     "data": {
      "text/plain": [
       "392"
      ]
     },
     "execution_count": 37,
     "metadata": {},
     "output_type": "execute_result"
    }
   ],
   "source": [
    "len(palavras_titulo) - 1"
   ]
  },
  {
   "cell_type": "code",
   "execution_count": 54,
   "id": "eec26b3a",
   "metadata": {},
   "outputs": [],
   "source": [
    "palavra_chave_encontrada = []\n",
    "encontrada = []\n",
    "\n",
    "for n, item in enumerate(palavras_titulo):\n",
    "    palavra_chave = []\n",
    "    for a, itens in enumerate(item):\n",
    "        if (len(itens) >= menor) and (itens in palavras_chave_lower) and (n <= len(palavras_titulo) - 1):\n",
    "            encontrada.append(itens)\n",
    "            if encontrada not in palavra_chave:\n",
    "                palavra_chave.append(encontrada)\n",
    "            encontrada = []\n",
    "    palavra_chave_encontrada.insert(n, palavra_chave)"
   ]
  },
  {
   "cell_type": "code",
   "execution_count": 55,
   "id": "34355538",
   "metadata": {},
   "outputs": [
    {
     "name": "stdout",
     "output_type": "stream",
     "text": [
      "ordem: 4 - palavras: [['neural'], ['network'], ['method'], ['face'], ['recognition']] - total:5\n",
      "ordem: 16 - palavras: [['neural'], ['network'], ['technique'], ['recognition']] - total:4\n",
      "ordem: 27 - palavras: [['face'], ['recognition'], ['neural'], ['network']] - total:4\n",
      "ordem: 40 - palavras: [['face'], ['detection'], ['learning'], ['technique']] - total:4\n",
      "ordem: 41 - palavras: [['face'], ['recognition'], ['neural'], ['network']] - total:4\n",
      "ordem: 47 - palavras: [['image'], ['enhancement'], ['machine'], ['learning']] - total:4\n",
      "ordem: 48 - palavras: [['face'], ['recognition'], ['image'], ['enhancement'], ['neural'], ['network']] - total:6\n",
      "ordem: 96 - palavras: [['pattern'], ['recognition'], ['learning'], ['artificial']] - total:4\n",
      "ordem: 123 - palavras: [['technique'], ['face'], ['detection'], ['neural'], ['network']] - total:5\n",
      "ordem: 147 - palavras: [['face'], ['recognition'], ['neural'], ['network']] - total:4\n",
      "ordem: 204 - palavras: [['neural'], ['network'], ['pattern'], ['recognition']] - total:4\n",
      "ordem: 280 - palavras: [['face'], ['recognition'], ['neural'], ['network']] - total:4\n",
      "ordem: 281 - palavras: [['face'], ['recognition'], ['neural'], ['network']] - total:4\n"
     ]
    }
   ],
   "source": [
    "for c, item2 in enumerate(palavra_chave_encontrada):\n",
    "    if len(item2) >= 4:\n",
    "        print(f'ordem: {c} - palavras: {item2} - total:{len(item2)}')"
   ]
  },
  {
   "cell_type": "code",
   "execution_count": 65,
   "id": "eb3228fa",
   "metadata": {},
   "outputs": [
    {
     "name": "stdout",
     "output_type": "stream",
     "text": [
      "ordem: 4 - palavras: [['neural'], ['network'], ['method'], ['face'], ['recognition']] - total:5\n",
      "relevan                                                  5.0\n",
      "Title      A Novel Neural Network Method for Face Recogni...\n",
      "Name: 5, dtype: object\n",
      "ordem: 16 - palavras: [['neural'], ['network'], ['technique'], ['recognition']] - total:4\n",
      "relevan                                                  4.0\n",
      "Title      Design and development of a security module wi...\n",
      "Name: 17, dtype: object\n",
      "ordem: 27 - palavras: [['face'], ['recognition'], ['neural'], ['network']] - total:4\n",
      "relevan                                                  3.0\n",
      "Title      A Novel Multi-Angular LTP and MLDA Based Face ...\n",
      "Name: 28, dtype: object\n",
      "ordem: 40 - palavras: [['face'], ['detection'], ['learning'], ['technique']] - total:4\n",
      "relevan                                                  3.0\n",
      "Title      Face Detection using Deep Recurrent Learning a...\n",
      "Name: 41, dtype: object\n",
      "ordem: 41 - palavras: [['face'], ['recognition'], ['neural'], ['network']] - total:4\n",
      "relevan                                                  3.0\n",
      "Title      Face recognition using circularly orthogonal m...\n",
      "Name: 42, dtype: object\n",
      "ordem: 47 - palavras: [['image'], ['enhancement'], ['machine'], ['learning']] - total:4\n",
      "relevan                                                 3.0\n",
      "Title      Image Quality Enhancement Using Machine Learning\n",
      "Name: 48, dtype: object\n",
      "ordem: 48 - palavras: [['face'], ['recognition'], ['image'], ['enhancement'], ['neural'], ['network']] - total:6\n",
      "relevan                                                  3.0\n",
      "Title      Improving Face Recognition Systems Using a New...\n",
      "Name: 49, dtype: object\n",
      "ordem: 96 - palavras: [['pattern'], ['recognition'], ['learning'], ['artificial']] - total:4\n",
      "relevan                                                  2.0\n",
      "Title      Multi-size patch based collaborative represent...\n",
      "Name: 97, dtype: object\n",
      "ordem: 123 - palavras: [['technique'], ['face'], ['detection'], ['neural'], ['network']] - total:5\n",
      "relevan                                                  1.0\n",
      "Title      Analysis and fast feature selection technique ...\n",
      "Name: 124, dtype: object\n",
      "ordem: 147 - palavras: [['face'], ['recognition'], ['neural'], ['network']] - total:4\n",
      "relevan                                                  1.0\n",
      "Title      Face Expression Recognition Based on optimized...\n",
      "Name: 148, dtype: object\n",
      "ordem: 204 - palavras: [['neural'], ['network'], ['pattern'], ['recognition']] - total:4\n",
      "relevan                                                  0.0\n",
      "Title      A Pyramidal Neural Network For Visual Pattern ...\n",
      "Name: 205, dtype: object\n",
      "ordem: 280 - palavras: [['face'], ['recognition'], ['neural'], ['network']] - total:4\n",
      "relevan                                                  0.0\n",
      "Title      Face Recognition Based on Improved Multiscale ...\n",
      "Name: 281, dtype: object\n",
      "ordem: 281 - palavras: [['face'], ['recognition'], ['neural'], ['network']] - total:4\n",
      "relevan                                                  0.0\n",
      "Title      Face Recognition Framework Based on Correlated...\n",
      "Name: 282, dtype: object\n",
      "Existe(m) 13 artigos com quatro ou mais palavras chave em seu titulo.\n"
     ]
    }
   ],
   "source": [
    "contador = 0\n",
    "artigos = []\n",
    "for c, item2 in enumerate(palavra_chave_encontrada):\n",
    "    if len(item2) >= 4:\n",
    "        print(f'ordem: {c} - palavras: {item2} - total:{len(item2)}')\n",
    "        print(tcc_filtro_df.loc[c+1,['relevan','Title']])\n",
    "        artigos.append(c)\n",
    "        contador += 1\n",
    "print(f'Existe(m) {contador} artigos com quatro ou mais palavras chave em seu titulo.')"
   ]
  },
  {
   "cell_type": "code",
   "execution_count": 66,
   "id": "5724e2ba",
   "metadata": {},
   "outputs": [
    {
     "name": "stdout",
     "output_type": "stream",
     "text": [
      "ordem: 4 - palavras: [['neural'], ['network'], ['method'], ['face'], ['recognition']] - total:5\n",
      "relevan                                                  5.0\n",
      "Title      A Novel Neural Network Method for Face Recogni...\n",
      "Name: 5, dtype: object\n",
      "ordem: 16 - palavras: [['neural'], ['network'], ['technique'], ['recognition']] - total:4\n",
      "relevan                                                  4.0\n",
      "Title      Design and development of a security module wi...\n",
      "Name: 17, dtype: object\n",
      "ordem: 17 - palavras: [['image'], ['enhancement'], ['network']] - total:3\n",
      "relevan                                                  4.0\n",
      "Title      Divide and conquer: Ill-light image enhancemen...\n",
      "Name: 18, dtype: object\n",
      "ordem: 24 - palavras: [['method'], ['image'], ['enhancement']] - total:3\n",
      "relevan                                                  4.0\n",
      "Title      Retinex-Like Method for Image Enhancement in P...\n",
      "Name: 25, dtype: object\n",
      "ordem: 27 - palavras: [['face'], ['recognition'], ['neural'], ['network']] - total:4\n",
      "relevan                                                  3.0\n",
      "Title      A Novel Multi-Angular LTP and MLDA Based Face ...\n",
      "Name: 28, dtype: object\n",
      "ordem: 39 - palavras: [['image'], ['neural'], ['network']] - total:3\n",
      "relevan                                                  3.0\n",
      "Title      EQLRI: Enhance the Quality of Low Resolution I...\n",
      "Name: 40, dtype: object\n",
      "ordem: 40 - palavras: [['face'], ['detection'], ['learning'], ['technique']] - total:4\n",
      "relevan                                                  3.0\n",
      "Title      Face Detection using Deep Recurrent Learning a...\n",
      "Name: 41, dtype: object\n",
      "ordem: 41 - palavras: [['face'], ['recognition'], ['neural'], ['network']] - total:4\n",
      "relevan                                                  3.0\n",
      "Title      Face recognition using circularly orthogonal m...\n",
      "Name: 42, dtype: object\n",
      "ordem: 42 - palavras: [['face'], ['recognition'], ['image']] - total:3\n",
      "relevan                                                  3.0\n",
      "Title      Face Recognition using PCA on Enhanced Image f...\n",
      "Name: 43, dtype: object\n",
      "ordem: 43 - palavras: [['technique'], ['face'], ['recognition']] - total:3\n",
      "relevan                                                  3.0\n",
      "Title      Feature Accentuation Using Uniform Morphologic...\n",
      "Name: 44, dtype: object\n",
      "ordem: 45 - palavras: [['image'], ['machine'], ['learning']] - total:3\n",
      "relevan                                                  3.0\n",
      "Title      Histogram-Based Image Pre-processing for Machi...\n",
      "Name: 46, dtype: object\n",
      "ordem: 47 - palavras: [['image'], ['enhancement'], ['machine'], ['learning']] - total:4\n",
      "relevan                                                 3.0\n",
      "Title      Image Quality Enhancement Using Machine Learning\n",
      "Name: 48, dtype: object\n",
      "ordem: 48 - palavras: [['face'], ['recognition'], ['image'], ['enhancement'], ['neural'], ['network']] - total:6\n",
      "relevan                                                  3.0\n",
      "Title      Improving Face Recognition Systems Using a New...\n",
      "Name: 49, dtype: object\n",
      "ordem: 54 - palavras: [['detection'], ['face'], ['image']] - total:3\n",
      "relevan                                                 3.0\n",
      "Title      Precise Eye Detection on Frontal View Face Image\n",
      "Name: 55, dtype: object\n",
      "ordem: 56 - palavras: [['neural'], ['network'], ['detection']] - total:3\n",
      "relevan                                                  3.0\n",
      "Title      Recurrent neural network for facial landmark d...\n",
      "Name: 57, dtype: object\n",
      "ordem: 61 - palavras: [['recognition'], ['face'], ['network']] - total:3\n",
      "relevan                                                  2.0\n",
      "Title      A passport recognition and face verification u...\n",
      "Name: 62, dtype: object\n",
      "ordem: 64 - palavras: [['image'], ['enhancement'], ['method']] - total:3\n",
      "relevan                                                  2.0\n",
      "Title      Adaptive image enhancement method for correcti...\n",
      "Name: 65, dtype: object\n",
      "ordem: 65 - palavras: [['face'], ['recognition'], ['neural']] - total:3\n",
      "relevan                                                  2.0\n",
      "Title      An adaptive pig face recognition approach usin...\n",
      "Name: 66, dtype: object\n",
      "ordem: 67 - palavras: [['detection'], ['neural'], ['network']] - total:3\n",
      "relevan                                                  2.0\n",
      "Title      Automatic defects detection and classification...\n",
      "Name: 68, dtype: object\n",
      "ordem: 74 - palavras: [['image'], ['face'], ['enhancement']] - total:3\n",
      "relevan                                                  2.0\n",
      "Title      Deep learning-based single image face depth da...\n",
      "Name: 75, dtype: object\n",
      "ordem: 78 - palavras: [['neural'], ['network'], ['detection']] - total:3\n",
      "relevan                                                  2.0\n",
      "Title      Evolving Fuzzy Min-max Neural Network for Outl...\n",
      "Name: 79, dtype: object\n",
      "ordem: 79 - palavras: [['face'], ['detection'], ['network']] - total:3\n",
      "relevan                                                  2.0\n",
      "Title      Face detection by aggregated Bayesian network ...\n",
      "Name: 80, dtype: object\n",
      "ordem: 84 - palavras: [['enhancement'], ['detection'], ['recognition']] - total:3\n",
      "relevan                                                  2.0\n",
      "Title      Fractional poisson enhancement model for text ...\n",
      "Name: 85, dtype: object\n",
      "ordem: 96 - palavras: [['pattern'], ['recognition'], ['learning'], ['artificial']] - total:4\n",
      "relevan                                                  2.0\n",
      "Title      Multi-size patch based collaborative represent...\n",
      "Name: 97, dtype: object\n",
      "ordem: 98 - palavras: [['image'], ['enhancement'], ['technique']] - total:3\n",
      "relevan                                                  2.0\n",
      "Title      On the use of Image Enhancement Technique towa...\n",
      "Name: 99, dtype: object\n",
      "ordem: 99 - palavras: [['recognition'], ['neural'], ['network']] - total:3\n",
      "relevan                                                  2.0\n",
      "Title      Parametric Analysis on Enhanced Facial Emotion...\n",
      "Name: 100, dtype: object\n",
      "ordem: 103 - palavras: [['technique'], ['detection'], ['image']] - total:3\n",
      "relevan                                                  2.0\n",
      "Title      Reversible logic-based magnitude comparator (R...\n",
      "Name: 104, dtype: object\n",
      "ordem: 123 - palavras: [['technique'], ['face'], ['detection'], ['neural'], ['network']] - total:5\n",
      "relevan                                                  1.0\n",
      "Title      Analysis and fast feature selection technique ...\n",
      "Name: 124, dtype: object\n",
      "ordem: 147 - palavras: [['face'], ['recognition'], ['neural'], ['network']] - total:4\n",
      "relevan                                                  1.0\n",
      "Title      Face Expression Recognition Based on optimized...\n",
      "Name: 148, dtype: object\n",
      "ordem: 149 - palavras: [['face'], ['recognition'], ['enhancement']] - total:3\n",
      "relevan                                                  1.0\n",
      "Title      Face recognition enhancement by employing faci...\n",
      "Name: 150, dtype: object\n",
      "ordem: 154 - palavras: [['learning'], ['face'], ['detection']] - total:3\n",
      "relevan                                                  1.0\n",
      "Title      Fast Asymmetric Learning for Cascade Face Dete...\n",
      "Name: 155, dtype: object\n",
      "ordem: 156 - palavras: [['learning'], ['face'], ['detection']] - total:3\n",
      "relevan                                                  1.0\n",
      "Title      FloatBoost learning and statistical face detec...\n",
      "Name: 157, dtype: object\n",
      "ordem: 159 - palavras: [['recognition'], ['neural'], ['network']] - total:3\n",
      "relevan                                                  1.0\n",
      "Title      Frontal Facial Expression Recognition Based on...\n",
      "Name: 160, dtype: object\n",
      "ordem: 162 - palavras: [['face'], ['recognition'], ['neural']] - total:3\n",
      "relevan                                                  1.0\n",
      "Title      High-speed face recognition based on discrete ...\n",
      "Name: 163, dtype: object\n",
      "ordem: 169 - palavras: [['machine'], ['learning'], ['detection']] - total:3\n",
      "relevan                                                  1.0\n",
      "Title      Machine learning for multi-view eye-pair detec...\n",
      "Name: 170, dtype: object\n",
      "ordem: 171 - palavras: [['machine'], ['face'], ['detection']] - total:3\n",
      "relevan                                                  1.0\n",
      "Title      Machine vision quality assessment for robust f...\n",
      "Name: 172, dtype: object\n",
      "ordem: 185 - palavras: [['neural'], ['network'], ['recognition']] - total:3\n",
      "relevan                                                  1.0\n",
      "Title      Three convolutional neural network models for ...\n",
      "Name: 186, dtype: object\n",
      "ordem: 204 - palavras: [['neural'], ['network'], ['pattern'], ['recognition']] - total:4\n",
      "relevan                                                  0.0\n",
      "Title      A Pyramidal Neural Network For Visual Pattern ...\n",
      "Name: 205, dtype: object\n",
      "ordem: 217 - palavras: [['neural'], ['network'], ['recognition']] - total:3\n",
      "relevan                                                  0.0\n",
      "Title      An End to End Deep Neural Network for Iris Rec...\n",
      "Name: 218, dtype: object\n",
      "ordem: 253 - palavras: [['face'], ['neural'], ['detection']] - total:3\n",
      "relevan                                                  0.0\n",
      "Title      Convolutional face finder: a neural architectu...\n",
      "Name: 254, dtype: object\n",
      "ordem: 261 - palavras: [['neural'], ['enhancement'], ['image']] - total:3\n",
      "relevan                                                  0.0\n",
      "Title      Deep Neural Network–Based Enhancement for Imag...\n",
      "Name: 262, dtype: object\n",
      "ordem: 280 - palavras: [['face'], ['recognition'], ['neural'], ['network']] - total:4\n",
      "relevan                                                  0.0\n",
      "Title      Face Recognition Based on Improved Multiscale ...\n",
      "Name: 281, dtype: object\n",
      "ordem: 281 - palavras: [['face'], ['recognition'], ['neural'], ['network']] - total:4\n",
      "relevan                                                  0.0\n",
      "Title      Face Recognition Framework Based on Correlated...\n",
      "Name: 282, dtype: object\n",
      "ordem: 286 - palavras: [['recognition'], ['neural'], ['network']] - total:3\n",
      "relevan                                                  0.0\n",
      "Title      Facial Expression Recognition Based on Convolu...\n",
      "Name: 287, dtype: object\n",
      "ordem: 287 - palavras: [['recognition'], ['neural'], ['network']] - total:3\n",
      "relevan                                                  0.0\n",
      "Title      Facial Expression Recognition Using a Simplifi...\n",
      "Name: 288, dtype: object\n",
      "ordem: 292 - palavras: [['face'], ['learning'], ['network']] - total:3\n",
      "relevan                                                  0.0\n",
      "Title      FIN-GAN: Face illumination normalization via r...\n",
      "Name: 293, dtype: object\n",
      "ordem: 294 - palavras: [['recognition'], ['neural'], ['network']] - total:3\n",
      "relevan                                                  0.0\n",
      "Title      Finger vein recognition system with template p...\n",
      "Name: 295, dtype: object\n",
      "ordem: 302 - palavras: [['enhancement'], ['face'], ['detection']] - total:3\n",
      "relevan                                                  0.0\n",
      "Title      Global Texture Enhancement for Fake Face Detec...\n",
      "Name: 303, dtype: object\n",
      "ordem: 310 - palavras: [['face'], ['recognition'], ['image']] - total:3\n",
      "relevan                                                  0.0\n",
      "Title      Improving the face recognition system by hybri...\n",
      "Name: 311, dtype: object\n",
      "ordem: 335 - palavras: [['machine'], ['learning'], ['detection']] - total:3\n",
      "relevan                                                  0.0\n",
      "Title      Machine Learning Augmentation: An Integrative ...\n",
      "Name: 336, dtype: object\n",
      "ordem: 338 - palavras: [['machine'], ['learning'], ['image']] - total:3\n",
      "relevan                                                 0.0\n",
      "Title      Machine learning in intelligent image processing\n",
      "Name: 339, dtype: object\n",
      "ordem: 345 - palavras: [['recognition'], ['learning'], ['machine']] - total:3\n",
      "relevan                                                  0.0\n",
      "Title      Multimodal biometrics recognition based on loc...\n",
      "Name: 346, dtype: object\n",
      "ordem: 347 - palavras: [['image'], ['pattern'], ['recognition']] - total:3\n"
     ]
    },
    {
     "name": "stdout",
     "output_type": "stream",
     "text": [
      "relevan                                                  0.0\n",
      "Title      New developments in forensic image processing ...\n",
      "Name: 348, dtype: object\n",
      "ordem: 348 - palavras: [['image'], ['artificial'], ['neural']] - total:3\n",
      "relevan                                                  0.0\n",
      "Title      Nonlinear image processing using artificial ne...\n",
      "Name: 349, dtype: object\n",
      "ordem: 356 - palavras: [['recognition'], ['neural'], ['network']] - total:3\n",
      "relevan                                                  0.0\n",
      "Title      Performance improvement of Facial Expression R...\n",
      "Name: 357, dtype: object\n",
      "Existe(m) 55 artigos com três ou mais palavras chave em seu titulo.\n"
     ]
    }
   ],
   "source": [
    "contador = 0\n",
    "artigos = []\n",
    "for c, item2 in enumerate(palavra_chave_encontrada):\n",
    "    if len(item2) >= 3:\n",
    "        print(f'ordem: {c} - palavras: {item2} - total:{len(item2)}')\n",
    "        print(tcc_filtro_df.loc[c+1,['relevan','Title']])\n",
    "        artigos.append(c)\n",
    "        contador += 1\n",
    "print(f'Existe(m) {contador} artigos com três ou mais palavras chave em seu titulo.')"
   ]
  },
  {
   "cell_type": "code",
   "execution_count": 70,
   "id": "9edd0598",
   "metadata": {},
   "outputs": [
    {
     "data": {
      "text/plain": [
       "Title    A Novel Neural Network Method for Face Recogni...\n",
       "Name: 5, dtype: object"
      ]
     },
     "execution_count": 70,
     "metadata": {},
     "output_type": "execute_result"
    }
   ],
   "source": [
    "tcc_df.loc[5,['Title']]"
   ]
  },
  {
   "cell_type": "code",
   "execution_count": null,
   "id": "ed4e9c19",
   "metadata": {},
   "outputs": [],
   "source": []
  }
 ],
 "metadata": {
  "kernelspec": {
   "display_name": "Python 3",
   "language": "python",
   "name": "python3"
  },
  "language_info": {
   "codemirror_mode": {
    "name": "ipython",
    "version": 3
   },
   "file_extension": ".py",
   "mimetype": "text/x-python",
   "name": "python",
   "nbconvert_exporter": "python",
   "pygments_lexer": "ipython3",
   "version": "3.8.8"
  }
 },
 "nbformat": 4,
 "nbformat_minor": 5
}
